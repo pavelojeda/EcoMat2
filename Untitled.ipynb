{
 "cells": [
  {
   "cell_type": "markdown",
   "id": "dbe8d86d",
   "metadata": {},
   "source": [
    "# Primeros pasos en *Julia*\n",
    "> 03/16/2023, Pável Ojeda\n",
    "\n",
    "$\\frac{dy}{dx} + p(x) = f(x)$\n",
    "\n",
    "$ y_i = \\alpha + \\beta X + \\epsilon $\n"
   ]
  },
  {
   "cell_type": "markdown",
   "id": "800eebbf",
   "metadata": {},
   "source": [
    "## 1 Lo Escencial \n",
    "> Operadores aritemeticos, valores y tipos. "
   ]
  },
  {
   "cell_type": "markdown",
   "id": "85bf763a",
   "metadata": {},
   "source": [
    "### 1.1 Operadores matemáticos... básicos "
   ]
  },
  {
   "cell_type": "code",
   "execution_count": 4,
   "id": "19cfefa5",
   "metadata": {},
   "outputs": [
    {
     "data": {
      "text/plain": [
       "7"
      ]
     },
     "execution_count": 4,
     "metadata": {},
     "output_type": "execute_result"
    }
   ],
   "source": [
    "2 + 5"
   ]
  },
  {
   "cell_type": "code",
   "execution_count": 8,
   "id": "2cc4f847",
   "metadata": {},
   "outputs": [
    {
     "data": {
      "text/plain": [
       "1"
      ]
     },
     "execution_count": 8,
     "metadata": {},
     "output_type": "execute_result"
    }
   ],
   "source": [
    "2 - 1"
   ]
  },
  {
   "cell_type": "code",
   "execution_count": 9,
   "id": "fef4bbe1",
   "metadata": {},
   "outputs": [
    {
     "data": {
      "text/plain": [
       "30"
      ]
     },
     "execution_count": 9,
     "metadata": {},
     "output_type": "execute_result"
    }
   ],
   "source": [
    "5 * 6"
   ]
  },
  {
   "cell_type": "code",
   "execution_count": 10,
   "id": "0e8aa100",
   "metadata": {},
   "outputs": [
    {
     "data": {
      "text/plain": [
       "2.5"
      ]
     },
     "execution_count": 10,
     "metadata": {},
     "output_type": "execute_result"
    }
   ],
   "source": [
    "5/2"
   ]
  },
  {
   "cell_type": "code",
   "execution_count": 14,
   "id": "d5c4a1d3",
   "metadata": {},
   "outputs": [
    {
     "data": {
      "text/plain": [
       "4"
      ]
     },
     "execution_count": 14,
     "metadata": {},
     "output_type": "execute_result"
    }
   ],
   "source": [
    "2^2"
   ]
  },
  {
   "cell_type": "code",
   "execution_count": 16,
   "id": "2a2723e3",
   "metadata": {},
   "outputs": [
    {
     "data": {
      "text/plain": [
       "5.0"
      ]
     },
     "execution_count": 16,
     "metadata": {},
     "output_type": "execute_result"
    }
   ],
   "source": [
    "2/2 * 5"
   ]
  },
  {
   "cell_type": "markdown",
   "id": "eaea570e",
   "metadata": {},
   "source": [
    "> PEMDAS\n",
    "\n",
    "- Parenthesis\n",
    "- Exponents\n",
    "- Multiplication\n",
    "- Divition\n",
    "- Adition\n",
    "- Substraction\n",
    "\n"
   ]
  },
  {
   "cell_type": "code",
   "execution_count": null,
   "id": "dee65d12",
   "metadata": {},
   "outputs": [],
   "source": [
    "(2/2)*5"
   ]
  },
  {
   "cell_type": "code",
   "execution_count": 6,
   "id": "ab8fe465",
   "metadata": {},
   "outputs": [
    {
     "data": {
      "text/plain": [
       "2"
      ]
     },
     "execution_count": 6,
     "metadata": {},
     "output_type": "execute_result"
    }
   ],
   "source": [
    "2 + 5\n",
    "7 + 8 \n",
    "1 + 1"
   ]
  },
  {
   "cell_type": "markdown",
   "id": "10bea3ef",
   "metadata": {},
   "source": [
    "### 1.1 Tipos (types)"
   ]
  },
  {
   "cell_type": "code",
   "execution_count": 21,
   "id": "7ede598d",
   "metadata": {},
   "outputs": [
    {
     "data": {
      "text/plain": [
       "Int64"
      ]
     },
     "execution_count": 21,
     "metadata": {},
     "output_type": "execute_result"
    }
   ],
   "source": [
    "typeof(2)"
   ]
  },
  {
   "cell_type": "code",
   "execution_count": 22,
   "id": "c1d59c99",
   "metadata": {},
   "outputs": [
    {
     "data": {
      "text/plain": [
       "Float64"
      ]
     },
     "execution_count": 22,
     "metadata": {},
     "output_type": "execute_result"
    }
   ],
   "source": [
    "typeof(42.0)"
   ]
  },
  {
   "cell_type": "code",
   "execution_count": 23,
   "id": "0cfbdac8",
   "metadata": {},
   "outputs": [
    {
     "data": {
      "text/plain": [
       "String"
      ]
     },
     "execution_count": 23,
     "metadata": {},
     "output_type": "execute_result"
    }
   ],
   "source": [
    "typeof(\"algo\")"
   ]
  },
  {
   "cell_type": "code",
   "execution_count": 25,
   "id": "fd9bf054",
   "metadata": {},
   "outputs": [
    {
     "data": {
      "text/plain": [
       "String"
      ]
     },
     "execution_count": 25,
     "metadata": {},
     "output_type": "execute_result"
    }
   ],
   "source": [
    "typeof(\"2\")"
   ]
  },
  {
   "cell_type": "code",
   "execution_count": 26,
   "id": "2766ff81",
   "metadata": {},
   "outputs": [
    {
     "data": {
      "text/plain": [
       "(1, 0, 0)"
      ]
     },
     "execution_count": 26,
     "metadata": {},
     "output_type": "execute_result"
    }
   ],
   "source": [
    "1, 000,000"
   ]
  },
  {
   "cell_type": "markdown",
   "id": "02af39f5",
   "metadata": {},
   "source": [
    "##### Glossary\n",
    "\n",
    "- problem solving\n",
    "     * The process of formulating a problem, finding a solution, and expressing it.\n",
    "\n",
    "- program\n",
    "    * A sequence of instructions that specifies a computation.\n",
    "\n",
    "- REPL\n",
    "     * A program that repeatedly reads input, executes it, and outputs results.\n",
    "\n",
    "- prompt\n",
    "     * Characters displayed by the REPL to indicate that it is ready to take input from the user.\n",
    "\n",
    "- print statement\n",
    "     * An instruction that causes the Julia REPL to display a value on the screen.\n",
    "\n",
    "- operator\n",
    "     * A symbol that represents a simple computation like addition, multiplication, or string concatenation.\n",
    "\n",
    "- value\n",
    "     * One of the basic units of data, like a number or string, that a program manipulates.\n",
    "\n",
    "- type\n",
    "     * A category of values. The types we have seen so far are integers (Int64), floating-point numbers (Float64), and strings (String).\n",
    "\n",
    "- integer\n",
    "    * A type that represents whole numbers.\n",
    "\n",
    "- floating-point\n",
    "    * A type that represents numbers with a decimal point.\n",
    "\n",
    "- string\n",
    "    * A type that represents sequences of characters.\n",
    "\n",
    "- natural language\n",
    "    * Any one of the languages that people speak that evolved naturally.\n",
    "\n",
    "- formal language\n",
    "    * Any one of the languages that people have designed for specific purposes, such as representing mathematical ideas or computer programs. All programming languages are formal languages.\n",
    "\n",
    "- syntax\n",
    "    * The rules that govern the structure of a program.\n",
    "\n",
    "- debugging\n",
    "    * The process of finding and correcting bugs."
   ]
  },
  {
   "cell_type": "markdown",
   "id": "79c41987",
   "metadata": {},
   "source": [
    "## 2. Variables, expresiones y declaraciones\n",
    " > variables, expresions and statements"
   ]
  },
  {
   "cell_type": "markdown",
   "id": "6319740a",
   "metadata": {},
   "source": [
    "###  Nombres de variables"
   ]
  },
  {
   "cell_type": "code",
   "execution_count": 28,
   "id": "651f791f",
   "metadata": {},
   "outputs": [
    {
     "data": {
      "text/plain": [
       "\"Ningun estronguista aprobará la materia\""
      ]
     },
     "execution_count": 28,
     "metadata": {},
     "output_type": "execute_result"
    }
   ],
   "source": [
    "mensaje = \"Ningun estronguista aprobará la materia\""
   ]
  },
  {
   "cell_type": "code",
   "execution_count": 29,
   "id": "823a7d3b",
   "metadata": {},
   "outputs": [
    {
     "data": {
      "text/plain": [
       "17"
      ]
     },
     "execution_count": 29,
     "metadata": {},
     "output_type": "execute_result"
    }
   ],
   "source": [
    "n = 17 "
   ]
  },
  {
   "cell_type": "code",
   "execution_count": 33,
   "id": "7c5d5eb4",
   "metadata": {},
   "outputs": [
    {
     "data": {
      "text/plain": [
       "3.1415926535"
      ]
     },
     "execution_count": 33,
     "metadata": {},
     "output_type": "execute_result"
    }
   ],
   "source": [
    "pi_val = 3.1415926535"
   ]
  },
  {
   "cell_type": "code",
   "execution_count": 34,
   "id": "80347c6e",
   "metadata": {},
   "outputs": [
    {
     "ename": "LoadError",
     "evalue": "syntax: \"5\" is not a valid function argument name around In[34]:1",
     "output_type": "error",
     "traceback": [
      "syntax: \"5\" is not a valid function argument name around In[34]:1",
      "",
      "Stacktrace:",
      " [1] top-level scope",
      "   @ In[34]:1",
      " [2] eval",
      "   @ .\\boot.jl:368 [inlined]",
      " [3] include_string(mapexpr::typeof(REPL.softscope), mod::Module, code::String, filename::String)",
      "   @ Base .\\loading.jl:1428"
     ]
    }
   ],
   "source": [
    "5lineasdepobreza = 1000 "
   ]
  },
  {
   "cell_type": "code",
   "execution_count": 35,
   "id": "a9192f34",
   "metadata": {},
   "outputs": [
    {
     "ename": "LoadError",
     "evalue": "syntax: extra token \"@\" after end of expression",
     "output_type": "error",
     "traceback": [
      "syntax: extra token \"@\" after end of expression",
      "",
      "Stacktrace:",
      " [1] top-level scope",
      "   @ In[35]:1",
      " [2] eval",
      "   @ .\\boot.jl:368 [inlined]",
      " [3] include_string(mapexpr::typeof(REPL.softscope), mod::Module, code::String, filename::String)",
      "   @ Base .\\loading.jl:1428"
     ]
    }
   ],
   "source": [
    "more@ = \"más en español\""
   ]
  },
  {
   "cell_type": "code",
   "execution_count": 36,
   "id": "fa616399",
   "metadata": {},
   "outputs": [
    {
     "ename": "LoadError",
     "evalue": "syntax: unexpected \"=\"",
     "output_type": "error",
     "traceback": [
      "syntax: unexpected \"=\"",
      "",
      "Stacktrace:",
      " [1] top-level scope",
      "   @ In[36]:1",
      " [2] eval",
      "   @ .\\boot.jl:368 [inlined]",
      " [3] include_string(mapexpr::typeof(REPL.softscope), mod::Module, code::String, filename::String)",
      "   @ Base .\\loading.jl:1428"
     ]
    }
   ],
   "source": [
    "struct = \"algo\""
   ]
  },
  {
   "cell_type": "markdown",
   "id": "9691662c",
   "metadata": {},
   "source": [
    "> Lista de Keywords\n",
    "\n",
    "abstract, type,    baremodule,   begin,      break,       catch,\n",
    "const,            continue,     do,         else,        elseif,\n",
    "end,              export,       finally,    for,         function,\n",
    "global,           if,           import,     importall,   in,\n",
    "let,              local,        macro,      module,      mutable, struct,\n",
    "primitive, type,   quote,        return ,    try,         using,\n",
    "struct,           where,        while"
   ]
  },
  {
   "cell_type": "code",
   "execution_count": 37,
   "id": "26eda780",
   "metadata": {},
   "outputs": [
    {
     "data": {
      "text/plain": [
       "42"
      ]
     },
     "execution_count": 37,
     "metadata": {},
     "output_type": "execute_result"
    }
   ],
   "source": [
    "42"
   ]
  },
  {
   "cell_type": "code",
   "execution_count": 39,
   "id": "97c9f7cb",
   "metadata": {},
   "outputs": [
    {
     "data": {
      "text/plain": [
       "17"
      ]
     },
     "execution_count": 39,
     "metadata": {},
     "output_type": "execute_result"
    }
   ],
   "source": [
    "n"
   ]
  },
  {
   "cell_type": "code",
   "execution_count": 40,
   "id": "001cc25a",
   "metadata": {},
   "outputs": [
    {
     "data": {
      "text/plain": [
       "32"
      ]
     },
     "execution_count": 40,
     "metadata": {},
     "output_type": "execute_result"
    }
   ],
   "source": [
    "n+15"
   ]
  },
  {
   "cell_type": "markdown",
   "id": "b3e42b79",
   "metadata": {},
   "source": [
    "### 2.2 Script mode"
   ]
  },
  {
   "cell_type": "code",
   "execution_count": 42,
   "id": "9cb5aa7a",
   "metadata": {},
   "outputs": [
    {
     "data": {
      "text/plain": [
       "16.1"
      ]
     },
     "execution_count": 42,
     "metadata": {},
     "output_type": "execute_result"
    }
   ],
   "source": [
    "km = 10\n",
    "km * 1.61 "
   ]
  },
  {
   "cell_type": "code",
   "execution_count": 43,
   "id": "f9276b5e",
   "metadata": {},
   "outputs": [
    {
     "name": "stdout",
     "output_type": "stream",
     "text": [
      "10\n",
      "16.1\n"
     ]
    }
   ],
   "source": [
    "miles = 10\n",
    "println(miles)\n",
    "println(miles*1.61)"
   ]
  },
  {
   "cell_type": "markdown",
   "id": "b3cc4767",
   "metadata": {},
   "source": [
    "### 2.3 Operaciones con **strings**\n",
    "En general no puedes realizar \"operaciones\" (matemáticas) con strings, incluso si los strings se ven como números. Por tanto todo lo siguiente no está permitido:\n",
    "\n",
    "> \"2\" - \"1\"  ;  \"casa\"/\"habitaciones\" ;  \"Bolivar\" + \"campeon\".\n",
    "\n",
    "Sin embargo, hay dos \"excepciones\": * y ^."
   ]
  },
  {
   "cell_type": "code",
   "execution_count": 49,
   "id": "774b04a4",
   "metadata": {},
   "outputs": [
    {
     "data": {
      "text/plain": [
       "\"Bolivarcampeon\""
      ]
     },
     "execution_count": 49,
     "metadata": {},
     "output_type": "execute_result"
    }
   ],
   "source": [
    "str1 = \"Bolivar\"\n",
    "str2 = \"campeon\"\n",
    "str3 = str1 *  str2"
   ]
  },
  {
   "cell_type": "code",
   "execution_count": 54,
   "id": "fce22e40",
   "metadata": {},
   "outputs": [
    {
     "data": {
      "text/plain": [
       "\"CuacCuacCuac\""
      ]
     },
     "execution_count": 54,
     "metadata": {},
     "output_type": "execute_result"
    }
   ],
   "source": [
    "str1 = \"Cuac\"^3"
   ]
  },
  {
   "cell_type": "markdown",
   "id": "9dff43d9",
   "metadata": {},
   "source": [
    "### Comentarios \n",
    "> Siempre comenta tu código !!  "
   ]
  },
  {
   "cell_type": "code",
   "execution_count": 55,
   "id": "dd7e1820",
   "metadata": {},
   "outputs": [
    {
     "data": {
      "text/plain": [
       "20.0"
      ]
     },
     "execution_count": 55,
     "metadata": {},
     "output_type": "execute_result"
    }
   ],
   "source": [
    "# ingreso percapita familiar\n",
    "yhog = (10 + 20 + 30)/3"
   ]
  },
  {
   "cell_type": "markdown",
   "id": "fbad39e5",
   "metadata": {},
   "source": [
    "## 3 Function Calls"
   ]
  },
  {
   "cell_type": "code",
   "execution_count": 56,
   "id": "98293367",
   "metadata": {},
   "outputs": [
    {
     "name": "stdout",
     "output_type": "stream",
     "text": [
      "Hello, world\n"
     ]
    }
   ],
   "source": [
    "# ya vimos un \"function call\" en acción\n",
    "println(\"Hello, world\")"
   ]
  },
  {
   "cell_type": "code",
   "execution_count": 58,
   "id": "3c095f45",
   "metadata": {},
   "outputs": [
    {
     "data": {
      "text/plain": [
       "25"
      ]
     },
     "execution_count": 58,
     "metadata": {},
     "output_type": "execute_result"
    }
   ],
   "source": [
    "parse(Int64, \"25\")"
   ]
  },
  {
   "cell_type": "code",
   "execution_count": 59,
   "id": "ffe40f6b",
   "metadata": {},
   "outputs": [
    {
     "data": {
      "text/plain": [
       "Int64"
      ]
     },
     "execution_count": 59,
     "metadata": {},
     "output_type": "execute_result"
    }
   ],
   "source": [
    "typeof(parse(Int64,\"25\"))"
   ]
  },
  {
   "cell_type": "code",
   "execution_count": 60,
   "id": "6ed0edc9",
   "metadata": {},
   "outputs": [
    {
     "data": {
      "text/plain": [
       "3.1415"
      ]
     },
     "execution_count": 60,
     "metadata": {},
     "output_type": "execute_result"
    }
   ],
   "source": [
    "parse(Float64, \"3.1415\")"
   ]
  },
  {
   "cell_type": "code",
   "execution_count": 62,
   "id": "e0970019",
   "metadata": {},
   "outputs": [
    {
     "ename": "LoadError",
     "evalue": "ArgumentError: invalid base 10 digit '.' in \"3.1415\"",
     "output_type": "error",
     "traceback": [
      "ArgumentError: invalid base 10 digit '.' in \"3.1415\"",
      "",
      "Stacktrace:",
      " [1] tryparse_internal(#unused#::Type{Int64}, s::String, startpos::Int64, endpos::Int64, base_::Int64, raise::Bool)",
      "   @ Base .\\parse.jl:137",
      " [2] parse(::Type{Int64}, s::String; base::Nothing)",
      "   @ Base .\\parse.jl:241",
      " [3] parse(::Type{Int64}, s::String)",
      "   @ Base .\\parse.jl:240",
      " [4] top-level scope",
      "   @ In[62]:1",
      " [5] eval",
      "   @ .\\boot.jl:368 [inlined]",
      " [6] include_string(mapexpr::typeof(REPL.softscope), mod::Module, code::String, filename::String)",
      "   @ Base .\\loading.jl:1428"
     ]
    }
   ],
   "source": [
    "parse(Int64, \"3.1415\")"
   ]
  },
  {
   "cell_type": "markdown",
   "id": "f4a4765b",
   "metadata": {},
   "source": [
    "### 3.1 Funciones matemáticas"
   ]
  },
  {
   "cell_type": "code",
   "execution_count": 69,
   "id": "e88aea70",
   "metadata": {},
   "outputs": [
    {
     "data": {
      "text/plain": [
       "12.03972804325936"
      ]
     },
     "execution_count": 69,
     "metadata": {},
     "output_type": "execute_result"
    }
   ],
   "source": [
    "distancia = 10\n",
    "tiempo    = 3 \n",
    "velocidad = distancia/tiempo\n",
    "\n",
    "algo = 10 * log10(velocidad)\n",
    "algo = 10 * log(velocidad)\n"
   ]
  },
  {
   "cell_type": "code",
   "execution_count": 70,
   "id": "bca35ee8",
   "metadata": {},
   "outputs": [
    {
     "data": {
      "text/plain": [
       "0.644217687237691"
      ]
     },
     "execution_count": 70,
     "metadata": {},
     "output_type": "execute_result"
    }
   ],
   "source": [
    "radianes = 0.7\n",
    "altura  = sin(radianes) "
   ]
  },
  {
   "cell_type": "code",
   "execution_count": 71,
   "id": "0e83ea32",
   "metadata": {},
   "outputs": [
    {
     "data": {
      "text/plain": [
       "2.8284271247461903"
      ]
     },
     "execution_count": 71,
     "metadata": {},
     "output_type": "execute_result"
    }
   ],
   "source": [
    "raizcuadrada = sqrt(8)"
   ]
  },
  {
   "cell_type": "code",
   "execution_count": 72,
   "id": "b18762a6",
   "metadata": {},
   "outputs": [
    {
     "data": {
      "text/plain": [
       "0.012217000835247169"
      ]
     },
     "execution_count": 72,
     "metadata": {},
     "output_type": "execute_result"
    }
   ],
   "source": [
    "x = sin(radianes / 360 * 2 * π)"
   ]
  },
  {
   "cell_type": "code",
   "execution_count": 73,
   "id": "eba1ee76",
   "metadata": {},
   "outputs": [
    {
     "data": {
      "text/plain": [
       "1.0122170008352471"
      ]
     },
     "execution_count": 73,
     "metadata": {},
     "output_type": "execute_result"
    }
   ],
   "source": [
    "x = exp(log(x+1))"
   ]
  },
  {
   "cell_type": "markdown",
   "id": "cd67c52e",
   "metadata": {},
   "source": [
    "### 3.2 Nuevas Funciones"
   ]
  },
  {
   "cell_type": "code",
   "execution_count": 76,
   "id": "a62eba89",
   "metadata": {},
   "outputs": [
    {
     "data": {
      "text/plain": [
       "imprime (generic function with 1 method)"
      ]
     },
     "execution_count": 76,
     "metadata": {},
     "output_type": "execute_result"
    }
   ],
   "source": [
    "function imprime()\n",
    "    println(\"Bolivar\")\n",
    "    println(\"Campeon\")\n",
    "end"
   ]
  },
  {
   "cell_type": "code",
   "execution_count": 78,
   "id": "8bbf39a6",
   "metadata": {},
   "outputs": [
    {
     "name": "stdout",
     "output_type": "stream",
     "text": [
      "Bolivar\n",
      "Campeon\n"
     ]
    }
   ],
   "source": [
    "imprime()"
   ]
  },
  {
   "cell_type": "code",
   "execution_count": 79,
   "id": "449330ca",
   "metadata": {},
   "outputs": [
    {
     "data": {
      "text/plain": [
       "imprime_esto (generic function with 1 method)"
      ]
     },
     "execution_count": 79,
     "metadata": {},
     "output_type": "execute_result"
    }
   ],
   "source": [
    "function imprime_esto(arg)\n",
    "    println(arg)\n",
    "end"
   ]
  },
  {
   "cell_type": "code",
   "execution_count": 80,
   "id": "89d3f7f1",
   "metadata": {},
   "outputs": [
    {
     "name": "stdout",
     "output_type": "stream",
     "text": [
      "hola\n"
     ]
    }
   ],
   "source": [
    "imprime_esto(\"hola\")"
   ]
  },
  {
   "cell_type": "code",
   "execution_count": 81,
   "id": "1dc8c6c2",
   "metadata": {},
   "outputs": [
    {
     "name": "stdout",
     "output_type": "stream",
     "text": [
      "cuaccuaccuaccuaccuaccuaccuaccuaccuaccuaccuaccuaccuaccuaccuaccuaccuaccuaccuaccuaccuaccuaccuaccuaccuaccuaccuaccuaccuaccuaccuaccuaccuaccuaccuaccuaccuaccuaccuaccuaccuaccuaccuaccuaccuaccuaccuaccuaccuaccuaccuaccuaccuaccuaccuaccuaccuaccuaccuaccuaccuaccuaccuaccuaccuaccuaccuaccuaccuaccuaccuaccuaccuaccuaccuaccuaccuaccuaccuaccuaccuaccuaccuaccuaccuaccuaccuaccuaccuaccuaccuaccuaccuaccuaccuaccuaccuaccuaccuaccuac\n"
     ]
    }
   ],
   "source": [
    "imprime_esto(\"cuac\"^100)"
   ]
  }
 ],
 "metadata": {
  "kernelspec": {
   "display_name": "Julia 1.8.0",
   "language": "julia",
   "name": "julia-1.8"
  },
  "language_info": {
   "file_extension": ".jl",
   "mimetype": "application/julia",
   "name": "julia",
   "version": "1.8.0"
  }
 },
 "nbformat": 4,
 "nbformat_minor": 5
}
